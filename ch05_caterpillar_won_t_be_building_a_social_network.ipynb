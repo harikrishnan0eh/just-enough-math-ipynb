{
  "metadata": {
    "name": "Caterpillar Won’t Be Building A Social Network"
  },
  "nbformat": 3,
  "nbformat_minor": 0,
  "worksheets": [
    {
      "cells": [
        {
          "cell_type": "heading",
          "level": 1,
          "metadata": {
          },
          "source": "Caterpillar Won’t Be Building A Social Network"
        },
        {
          "cell_type": "markdown",
          "metadata": {
          },
          "source": "**Topics:** _Optimization_, _Linear Programming_, _Operations Research_, _Stochastic Gradient Descent_, _Evolutionary Algorithms_, _Genetic Programming_"
        },
        {
          "cell_type": "markdown",
          "metadata": {
          },
          "source": "The top ten stocks listed in the [Heavy Machinery and Vehicles](https://www.google.com/finance?catid=us-TRBC%3A5210202010&sort=MARKET_CAP&ei=js_KUpD9GsWUiAKCmAE) sector have a combined market capitalization of approximately $150B, circa early 2014. [Caterpillar](http://www.cat.com/), an iconic firm within that sector, accounts for more than one third of that figure. Mere mention of Caterpillar conjures images of towering, noisome behemoths of steel, diesel, and thunder – the utter bane of the [The Monkey Wrench Gang](http://www.amazon.com/dp/0061129763 \"\"), if you will. Rugged souls, salt of the Earth types, toiling long hours in dangerous environments, endeavoring at the apogee of industrial culture in its urgent quest to master Nature. Not quite the image of pierced and tattooed [hipsters](http://www.linkedin.com/today/post/article/20140105233439-24171-techbrats-goldberg-shih-and-gopman-do-not-represent-technology?trk=eml-ced-b-art-M-0&ut=0nTh2SkSxHfS41) just back from [Burning Man](http://www.burningman.com/ \"\"), zooming deftly on their [fixie bikes](http://bit.ly/1cTkLnY) as they sip light-roast latte in smug nonchalance, speeding through red lights across the chicest paths in San Francisco, late for some crucial meeting/wine tasting at a tech start-up… some new, hot social network venture bringing a highly gamified sharing economy to iguana owners, like an Uber for herpetophiles. Which, [their VCs](http://valleywag.gawker.com/) say, will be huge – probably several billion in valuation at IPO. Or something."
        },
        {
          "cell_type": "markdown",
          "metadata": {
          },
          "source": "When Cat begins to invest in machine learning, cluster computing, algorithmic modeling, etc., at levels of R&D spend comparable with, say, Facebook or Twitter, they won’t be building a social network. They will be optimizing real business – business worth billions in durable goods and industrial plant. Not the Silicon Valley notion of billions that evaporates overnight. Optimizing for supply chain, engine designs, production schedules, warehouse stocking, pricing strategies, delivery routes, etc. You can bet serious coin on that."
        },
        {
          "cell_type": "markdown",
          "metadata": {
          },
          "source": "The heavy equipment manufacturing sector will also be treads-deep, so to speak, in data. Data from “Internet of Things” [sensor arrays](http://www.ni.com/white-paper/14667/en/), [microsats](http://www.planet-labs.com/), [atmostats](http://titanaerospace.com/platforms/solara-50/), etc., looms on the horizon for industrial firms such as Caterpillar. Data which must be confronted and leveraged, before a competitor seizes first-mover advantage. The skills and tooling which served so well to earn billions in ad-tech are not necessarily the same skills and tooling needed in the business optimization challenges ahead."
        },
        {
          "cell_type": "heading",
          "level": 1,
          "metadata": {
          },
          "source": "Linear Programming"
        },
        {
          "cell_type": "markdown",
          "metadata": {
          },
          "source": "Recall from the previous chapter the case of more than _N_ equations with _N_ variables. We call that an [overdetermined system](http://en.wikipedia.org/wiki/Overdetermined_system). That, as we saw, presents a case in which there is no solution. So we approximated a solution. In contrast, let’s now consider the case we have less than _N_ equations with _N_ variables. We call that an [underdetermined system](http://en.wikipedia.org/wiki/Underdetermined_system) A key issue in that case is that there are many (if not _infinitely_ many) possible solutions. So we must optimize to choose among the best ones."
        },
        {
          "cell_type": "markdown",
          "metadata": {
          },
          "source": "One of the popular approaches to optimization is called [linear programming](http://en.wikipedia.org/wiki/Linear_programming). Not so much in the sense of “computer programming”, but rather [mathematical programming](http://en.wikipedia.org/wiki/Mathematical_optimization) that involves linear systems. We’ll stick with the equation  \\(\\mathbf{A}\\mathbf{x} = \\mathbf{y}\\) for the general form of matrix representation here, but the algorithms become somewhat different."
        },
        {
          "cell_type": "markdown",
          "metadata": {
          },
          "source": "Linear programming – as an approach for solving a system of linear inequalities – dates back to the 18th century. However, it came to the fore as an important discipline during World War II. Logistics was the endeavor that won or lost battles waged far from the heartland. Mathematical optimization techniques made it possible for countries to adjust their logistics – and estimate those of their enemies – during crucial times."
        },
        {
          "cell_type": "markdown",
          "metadata": {
          },
          "source": "[George Danztig](http://en.wikipedia.org/wiki/George_Dantzig \"\") did not invent linear programming, but he is credited with both the first published paper and some of the most significant contributions to the field through the years. Danztig is also the source of a popular urban legend about a grad student who walks in late to a math class, then quickly writes down two problems listed on the board – thinking they were assigned homework, and not realizing that the professor had started the lecture by listing unresolved problems in mathematics. Danztig did that quite famously in [Jerzy Neyman’s class at UC Berkeley](http://rev-inv-ope.univ-paris1.fr/files/26305/IO-26305-1.pdf):"
        },
        {
          "cell_type": "markdown",
          "metadata": {
          },
          "source": "In other words, we’re reviewing some raw genius here. The genius in linear programming was to apply linear algebra and optimization theory to cut the time required by complicated logistics problems, in some cases by orders of magnitude. What’s more, the [Simplex Method](https://www.cs.duke.edu/courses/spring07/cps296.2/papers/LinearProgramming_article.pdf) of linear programming dovetailed with the emerging field of Computer Science, so this kind of work could be automated and to some extent parallelized. The military jumped on this opportunity, followed closely by industry. AT&T Bell Labs was one of the largest use cases for decades."
        },
        {
          "cell_type": "markdown",
          "metadata": {
          },
          "source": "Suppose we have an _objective function_ stated as the product of two vectors _z_(**x**) = **cx**, and a _feasible region_ **Ax** = **b** where _x_i ≥ 0 holds. The former is what we need to optimize – minimize or maximize. The latter represents a set of constraints. Simple(x) enough."
        },
        {
          "cell_type": "markdown",
          "metadata": {
          },
          "source": "As an example, recall our business venture from previous chapters: an automated cocktail delivery service, ordered by tablet and delivered by drone. Based on extensive analysis of large-scale data, we have found that three categories of potations represent nearly all of our company net revenue:"
        },
        {
          "cell_type": "markdown",
          "metadata": {
          },
          "source": "<ul>\n<li><a href=\"http://www.amazon.com/dp/0965433323\">Pre-Prohibition</a></li>\n\t<li><a data-original-title=\"\" href=\"http://en.wikipedia.org/wiki/Liquid_nitrogen_cocktail\" title=\"\">Liquid Nitrogen</a></li>\n\t<li><a href=\"http://www.ahamodernliving.com/blog/garden/garden-cocktails/\">Freshly Muddled</a></li>\n</ul>\n"
        },
        {
          "cell_type": "markdown",
          "metadata": {
          },
          "source": "Our sales have booked a 5:3:2 ratio for net revenues from these three categories, and our investors mentioned that we need to optimize revenue this next quarter. Or something bad might happen. So let’s define an objective function _z_(**x**) based on _x_i representing those three categories:"
        },
        {
          "cell_type": "markdown",
          "metadata": {
          },
          "source": "_z_(**x**) = 5_x_1 + 3_x_2 + 2_x_3"
        },
        {
          "cell_type": "markdown",
          "metadata": {
          },
          "source": "This revenue optimization is subject to a set of constraints, namely our costs:"
        },
        {
          "cell_type": "markdown",
          "metadata": {
          },
          "source": "<ul>\n<li>ingredients</li>\n\t<li>bartender salaries</li>\n\t<li>drone delivery</li>\n</ul>\n"
        },
        {
          "cell_type": "markdown",
          "metadata": {
          },
          "source": "As it turns out, all of the ingredients last quarter cost us $100K, and were distributed among the three cocktail categories in a 1:1:3 ratio. Our bartenders work fast – largely due to our in-house massage therapy, free gourmet meals, and complementary fixie bike repair service – all lumped into their loaded salaries. However, they still take their own sweet time when it comes to mixing perfect drinks. Salaries for bartenders totaled $600K last quarter, and the overall time per cocktail category clocked in at a 10:4:5 ratio. Bar charts don’t lie. Meanwhile, drone-based delivery is still somewhat of an art form. We lost our shirts, shelling out a whopping $150K last quarter just for deliveries. Turns out that muddled drinks tend to be not only trendy but much heavier, so our airborne delivery costs for the different categories were in a 1:1:3 ratio. Oddly enough, we were fortunate to barter for our remaining expenses, such as accounting, datacenter, marketing, etc. Most of those services were being run by um, “social” drinkers."
        },
        {
          "cell_type": "markdown",
          "metadata": {
          },
          "source": "We can represent these cost constraints by a system of linear inequalities:"
        },
        {
          "cell_type": "markdown",
          "metadata": {
          },
          "source": "_x_1 + _x_2 + 3_x_3 ≤ 100  \n10_x_1 + 4_x_2 + 5_x_3 ≤ 600  \n_x_1 + _x_2 + 3_x_3 ≤ 150"
        },
        {
          "cell_type": "markdown",
          "metadata": {
          },
          "source": "Plus, there are the additional constraints such that all variables are non-negative. In other words, we’re not going to give people money to take our drinks:"
        },
        {
          "cell_type": "markdown",
          "metadata": {
          },
          "source": "_x_1 ≥ 0, _x_2 ≥ 0, _x_3 ≥ 0"
        },
        {
          "cell_type": "markdown",
          "metadata": {
          },
          "source": "NB: these constraints are not equations. We turn them into equations by introducing [slack variables](http://en.wikipedia.org/wiki/Slack_variable). The theory behind this is probably overkill for the moment, but the point is that introducing these variables makes the system underdetermined. That’s a good thing, for optimization."
        },
        {
          "cell_type": "markdown",
          "metadata": {
          },
          "source": "We can run this linear programming example in Python using the [PyGLPK](https://pypi.python.org/pypi/glpk/0.3) package. That’s a Python wrapper for the [GLPK](http://www.gnu.org/software/glpk/) solver, which is based on a subset of the [AMPL](http://www.ampl.com/BOOK/index.html) mathematical programming language. Let’s create a Python script `lp_example.py` to model our cocktail net revenues:"
        },
        {
          "cell_type": "code",
          "collapsed": false,
          "input": "\nfrom glpk import LPX\n\n# set up to maximize the objective function\nlp = LPX()\nlp.name = 'example'\nlp.obj.maximize = True\n\n# append 3 rows, named p, q, r\nrow_names = [\"p\", \"q\", \"r\"]\nlp.rows.add(len(row_names))\n\nfor r in lp.rows:\n    r.name = row_names[r.index]\n\nlp.rows[0].bounds = None, 100.0\nlp.rows[1].bounds = None, 600.0\nlp.rows[2].bounds = None, 150.0\n\n# append 3 cols, named x0, x1, x2\nlp.cols.add(3)\n\nfor c in lp.cols:\n    c.name = 'x%d' % c.index\n    c.bounds = 0.0, None\n\n# set the objective coefficients and\n# non-zero entries of the constraint matrix\nlp.obj[:] = [ 5.0, 3.0, 2.0 ]\nlp.matrix = [ 1.0, 1.0, 3.0, 10.0, 4.0, 5.0, 1.0, 1.0, 3.0 ]\n\n# report the objective function value and structural variables\nlp.simplex(msg_lev=LPX.MSG_ALL)\nprint 'Z = %g;' % lp.obj.value,\nprint '; '.join('%s = %g' % (c.name, c.primal) for c in lp.cols)\n",
          "language": "python",
          "metadata": {
          },
          "outputs": [

          ]
        },
        {
          "cell_type": "markdown",
          "metadata": {
          },
          "source": "Running this script, we solve for the values in **x** that maximize the objective function _z_(**x**):"
        },
        {
          "cell_type": "code",
          "collapsed": false,
          "input": "\n$ python src/lp_example.py\n*     0: obj =   0.000000000e+00  infeas =  0.000e+00 (0)\n*     2: obj =   3.666666667e+02  infeas =  0.000e+00 (0)\nOPTIMAL SOLUTION FOUND\nZ = 366.667; x0 = 33.3333; x1 = 66.6667; x2 = 0\n",
          "language": "python",
          "metadata": {
          },
          "outputs": [

          ]
        },
        {
          "cell_type": "markdown",
          "metadata": {
          },
          "source": "In other words, to maximize net revenues next quarter and keep the investors off our backs, we need to ditch the Freshly Muddled drinks. Then set our sales targets at 1/3 Pre-Prohibition and 2/3 Liquid Nitrogen. Done and done. Then we will anticipate (read: leak via press release) an embarrassingly ginormous $367K net revenues on approximately $850K costs, which gives us a 30% operating margin. Of course, since this is Silicon Valley, given that projection we are compelled to “embellish” and forecast a 62% operating margin while backdating our stock options. Buy low, sell high."
        },
        {
          "cell_type": "heading",
          "level": 1,
          "metadata": {
          },
          "source": "Alternating Directions"
        },
        {
          "cell_type": "markdown",
          "metadata": {
          },
          "source": "Optimization is not limited to linear programming. Dantzig himself received immediate criticism against Simplex Method, with critics pointing out that the real world is non-linear. And so a wide body of work in [Operations Research](http://en.wikipedia.org/wiki/Operations_research) has emerged, seeking to optimize different kinds of computationally difficult problems."
        },
        {
          "cell_type": "markdown",
          "metadata": {
          },
          "source": "One really great resource is the [Systems Optimization Laboratory](http://www.stanford.edu/group/SOL/) (SOL) at Stanford, which Dantzig helped establish in the 1973. In particular, check out their [software](http://www.stanford.edu/group/SOL/download.html) links for various solvers. These get used throughout industry – ranging from industrial plant optimization to macroeconomic policy to aircraft design, and much more. An excellent text from SOL is [Convex Optimization & Euclidean Distance Geometry](http://www.stanford.edu/group/SOL/Books/0976401304.pdf) by Jon Dattorro. A reader will likely recognize many of the linear algebra concepts covered in the previous chapter. The [AMPL book](http://www.ampl.com/BOOK/index.html) by Fourer, Gay, Kernighan (listed at the end of this chapter) is also an excellent reference for how to approach these kinds of optimization problems."
        },
        {
          "cell_type": "markdown",
          "metadata": {
          },
          "source": "Another research group at Stanford, the [Information Systems Laboratory](http://isl.stanford.edu/) (ISL) in the EE Department, has published exceptionally interesting work in convex optimization. The paper [Distributed Optimization and Statistical Learning via the Alternating Direction Method of Multipliers](http://www.stanford.edu/~boyd/papers/admm_distr_stats.html) (ADMM) by Stephen Boyd, Neal Parikh, et al. Their approach is summarized in the introduction:"
        },
        {
          "cell_type": "markdown",
          "metadata": {
          },
          "source": "In other words, even though there are many different algorithms used in machine learning, the bulk of these can be defined by a common mathematical formulation. Much of machine learning becomes essentially an optimization problem. This is described later on page 38:"
        },
        {
          "cell_type": "markdown",
          "metadata": {
          },
          "source": "Two key components are identified: a _loss function_ and a _regularization term_. The former recalls what we did in the linear algebra examples with approximation. The latter recalls what we did in the bayesian statistics examples by leveraging priors."
        },
        {
          "cell_type": "markdown",
          "metadata": {
          },
          "source": "Moreover, the techniques used in ADMM can run in parallel on large-scale data, based on open source frameworks. For example, analysis comparing ADMM implementations on Hadoop vs. Spark is given in [Cache-Reduce: Implementing Collaborative Filtering on a Cluster with the Spark Framework](http://www3.decf.berkeley.edu/~jreilly/#cachereduce) by Johann Grauzam, Boris Prodhomme, and Jack Reilly:"
        },
        {
          "cell_type": "markdown",
          "metadata": {
          },
          "source": "If the premise from Boyd, et al., is correct that much of the current work in machine learning software development can be reduced to an optimization of two functions _f_ and _g_, and the analysis from Reilly, et al., is correct that this highly-valued optimization does not fit MapReduce particularly well, then it’s probably time for those of us holding Hadoop-related stock options to begin flipping them. Now or never."
        },
        {
          "cell_type": "heading",
          "level": 1,
          "metadata": {
          },
          "source": "Gradient Descent"
        },
        {
          "cell_type": "markdown",
          "metadata": {
          },
          "source": "If we were to pull a [cluster trace](https://code.google.com/p/googleclusterdata/ \"\") from production servers running right now in any randomly selected datacenter, those resources likely get spent on the following four kinds of work:"
        },
        {
          "cell_type": "markdown",
          "metadata": {
          },
          "source": "<ul>\n<li>\n<a href=\"http://stackoverflow.com/questions/12717659/hadoop-reduce-shuffle-merge-in-memory\">moving data between different servers</a><br>\n\t(what others think your Data Scientists do)</li>\n\t<li>\n<a href=\"http://www.amazon.com/dp/B008HMN5BE\">cleaning up data prior to use, manually</a><br>\n\t(what your Data Scientists really do)</li>\n\t<li>\n<a href=\"http://www.umiacs.umd.edu/~jimmylin/publications/Lin_BigData2013.pdf\">something akin to stochastic gradient descent</a><br>\n\t(what your Data Scientists think they do)</li>\n\t<li>\n<a href=\"http://eurosys2013.tudos.org/wp-content/uploads/2013/paper/Schwarzkopf.pdf\">highly-available request/response services</a><br>\n\t(what your Data Scientists should think about doing)</li>\n</ul>\n"
        },
        {
          "cell_type": "markdown",
          "metadata": {
          },
          "source": "ADMM uses an optimization framework called _gradient ascent_ to find the maximum for an objective function. The flip side of that same optimization framework is called [gradient descent](http://en.wikipedia.org/wiki/Gradient_descent), finding the minimum for an objective function. Both came out of work by [Laplace, et al.](http://en.wikipedia.org/wiki/Laplace's_method) as a way of approximating integrals. At this point, an cornucopia of great use cases exist."
        },
        {
          "cell_type": "markdown",
          "metadata": {
          },
          "source": "After we’ve cleaned up our data, formulated workflows in terms of monoids, done our graph representation, and parallelized it all with a wealth of linear algebra, the heavy-lifting that remains for the computers to perform is probably something closely akin to gradient descent. For example, Jeff Dean describes a large use case for the many layers of neural nets used in [deep learning](https://plus.google.com/+ResearchatGoogle/posts/C1dPhQhcDRv) at Google. We’re probably all going to be using some variant gradient descent for a long while."
        },
        {
          "cell_type": "markdown",
          "metadata": {
          },
          "source": "Let’s take a look at how that works – and here’s where we actually get to apply some Calculus! Suppose that in our tablet/drone cocktail delivery start-up, based on extensive analysis of large-scale data, we have found that the cost of losing [cocktail parasol drink umbrellas](http://www.amazon.com/dp/B000H2XXAA \"\") turns out to be a function of the height at which the drones fly. Perhaps we used least squares approximation to handle that curve fitting. Or something. Anywho, _f_(_x_) = _x_4 - 3 _x_3 + 2 represents the umbrella loss _f_(_x_) in terms of the drones’ mean flying height _x_, so that defines the objective function we need to minimize."
        },
        {
          "cell_type": "markdown",
          "metadata": {
          },
          "source": "**Step 1**: find the first derivative of the objective function. Frankly, we could use calculus at that point to determine the solution for a simple function like this. But let’s pretend the problem is something harder, much much harder. **Step 2**: write a Python script `gd.py` that implements gradient descent:"
        },
        {
          "cell_type": "code",
          "collapsed": false,
          "input": "\n\n## based on an analytic solution, we expect that the local minimum\n## of the polynomial function f(x) occurs at x = 9/4 = 2.25\n\ndef f (x):\n    return x**4 - 3 * x**3 + 2\n\ndef f_prime (x):\n    \"\"\"first derivative of f(x)\"\"\"\n    return 4 * x**3 - 9 * x**2\n\ndef gradient_descent (x1, toler, step_size, max_iter, func, func_deriv):\n    \"\"\"inputs: f, starting value x1, termination tolerances\"\"\"\n    x0 = 0\n    print \"\\t\".join([ \"i\", \"x1\", \"error\", \"func(x1)\" ])\n\n    for i in xrange(max_iter):\n        error = abs(x1 - x0)\n        report = [\"%d %0.4e %0.4e %3.4e\" % (i, x1, error, func(x1))]\n        print \"\\t\".join(report)\n\n        if abs(x1 - x0) <= toler:\n            return \"local minimum:\", x1\n\n        x0 = x1\n        x1 = x0 - step_size * func_deriv(x0)\n\n    return \"halted\"\n\n## NB: step size is set here, it is not adaptive\n\nx1 = 6\ntoler = 0.00001\nstep_size = 0.01\nmax_iter = 93\n\nprint gradient_descent(x1, toler, step_size, max_iter, f, f_prime)\n",
          "language": "",
          "metadata": {
          },
          "outputs": [

          ]
        },
        {
          "cell_type": "markdown",
          "metadata": {
          },
          "source": "Bokay. That was not difficult. One big loop, really. **Step 3**: run that `gd.py` script to obtain the answer:"
        },
        {
          "cell_type": "code",
          "collapsed": false,
          "input": "\n$ python src/gd.py \ni   x1          error       func(x1)\n0   6.0000e+00  6.0000e+00  6.5000e+02\n1   6.0000e-01  5.4000e+00  1.4816e+00\n2   6.2376e-01  2.3760e-02  1.4233e+00\n3   6.4907e-01  2.5309e-02  1.3571e+00\n4   6.7605e-01  2.6978e-02  1.2819e+00\n5   7.0482e-01  2.8774e-02  1.1964e+00\n6   7.3553e-01  3.0704e-02  1.0989e+00\n7   7.6830e-01  3.2773e-02  9.8789e-01\n8   8.0328e-01  3.4985e-02  8.6137e-01\n9   8.4062e-01  3.7341e-02  7.1727e-01\n10  8.8046e-01  3.9837e-02  5.5332e-01\n11  9.2293e-01  4.2467e-02  3.6711e-01\n...\n66  2.2499e+00  2.2213e-05  -6.5430e+00\n67  2.2499e+00  1.7716e-05  -6.5430e+00\n68  2.2499e+00  1.4129e-05  -6.5430e+00\n69  2.2500e+00  1.1268e-05  -6.5430e+00\n70  2.2500e+00  8.9864e-06  -6.5430e+00\n('local minimum:', 2.2499646074278457)\n",
          "language": "python",
          "metadata": {
          },
          "outputs": [

          ]
        },
        {
          "cell_type": "markdown",
          "metadata": {
          },
          "source": "Clearly, we must attempt to fly our drones at a height of 2.25 meters, to minimize the loss of drink umbrellas. Hopefully we won’t run into any Olympic basketball players. Hopefully."
        },
        {
          "cell_type": "markdown",
          "metadata": {
          },
          "source": "Gradient descent is a _deterministic_ algorithm, in other words you get the same results every time you run GD with the same data, at the same cost. In practice, problems become much more complex than what’s shown above. In lieu of having a well-defined, differentiable function _f_(_x_), we’re probably creating some classifier based on a training set of data, working with lots of approximations, error terms, etc. In other words, building a _learner_. While it may involve some mathematical tricks and transforms to arrive at a differentiable objective function, the basic idea is to tune parameters in the learner such that it:"
        },
        {
          "cell_type": "markdown",
          "metadata": {
          },
          "source": "<ol>\n<li>minimizes error when the learner’s predictions are compared with the training set</li>\n\t<li>penalizes solutions that veer toward overfitting (i.e., regularization)</li>\n</ol>\n"
        },
        {
          "cell_type": "markdown",
          "metadata": {
          },
          "source": "With GD, we must run through the entire training set on each iteration. That’s expensive. Instead we generally use a faster variant called [stochastic gradient descent](http://scikit-learn.org/stable/modules/sgd.html) (SGD). Being a _stochastic_ algorithm, it hops and skips its way gracefully through the training set, “learning” from each new data point encountered. SGD is more efficient, but it introduces more knobs and dials to adjust. It also becomes sensitive to how the data is prepared, in terms of [feature scaling](http://scikit-learn.org/stable/modules/preprocessing.html#standardization-or-mean-removal-and-variance-scaling). There are trade-offs in life."
        },
        {
          "cell_type": "markdown",
          "metadata": {
          },
          "source": "For a great deep-dive on SGD, check out this excellent [Python tutorial](http://www.iro.umontreal.ca/~pift6266/H10/notes/gettingstarted.html#stochastic-gradient-descent) by Yoshua Bengio @Université de Montréal. Also check out the [scikit-learn](http://scikit-learn.org/stable/modules/sgd.html) examples. Good stuff."
        },
        {
          "cell_type": "markdown",
          "metadata": {
          },
          "source": "Looking a few more years ahead, one of the promises of [quantum computing](http://www.dwavesys.com/en/products-services.html) is to be able to knock down huge [gradient descent problems in constant time](http://arxiv.org/abs/quant-ph/0405146 \"\"). Think about that: if we’ve reworked our high-ROI apps to leverage lots of machine learning, algorithmic modeling, abstract algebra, functional programming, bayesian stats, graph theory, sparse matrices, parallelism, cluster computing, etc., while the heavy-lifting on those clusters really comes down to performing lots of gradient descent, then SGD represents much of our datacenter cost. How about slashing that cost by orders of magnitude? Just plug in quantum algorithms… it recalls the oft-told line by grad students during thesis defense, “That was made pluggable.”"
        },
        {
          "cell_type": "markdown",
          "metadata": {
          },
          "source": "[ ![qCraft video on YouTube](http://img.youtube.com/vi/nD-iVXglyTQ/0.jpg) ](http://youtu.be/nD-iVXglyTQ \"\")"
        },
        {
          "cell_type": "markdown",
          "metadata": {
          },
          "source": "How likely is that scenario, or rather how far away could we anticipate it in production? It’s still a matter of research, true. However, one might take a hint from a recent twist… The [Google Quantum AI team](https://plus.google.com/u/1/+QuantumAILab/posts/grMbaaDGChH) released a Minecraft mod called [qCraft](http://qcraft.org/), with the intent of identifying non-linear thinkers who are adept at manipulating quantum problems. Identifying them early. Those of you who have kiddos probably understand that 10-year-olds play Minecraft. Let’s do the math … some subset of these avid Minecraft players will become Google AI interns in less than a decade. Meanwhile, the fine people at Google have a track record to uphold for leveraging huge technology disruptions."
        },
        {
          "cell_type": "heading",
          "level": 1,
          "metadata": {
          },
          "source": "Evolutionary Algorithms"
        },
        {
          "cell_type": "markdown",
          "metadata": {
          },
          "source": "Meanwhile, for those of us who don’t own a [DWave](http://www.dwavesys.com/en/products-services.html) quantum computer, sometimes the SGD approach won’t work. Perhaps the parameter space is overly large… We showed a simple example of using PCA for dimensional reduction, but in general it’s a hard problem. Perhaps we cannot get a derivative of the objective function… Or, perhaps even specifying an objective function is a problem? Reading from Dantzig and others, enormous bias can be introduced through subtle nuances in objective functions. Perhaps the best that can be done is to propose a set of “reasonably good” candidate solutions – prompting experts and computers to work together. Stranger things have happened."
        },
        {
          "cell_type": "markdown",
          "metadata": {
          },
          "source": "In that circumstance, another approach is to leverage [Evolutionary Algorithms](http://en.wikipedia.org/wiki/Evolutionary_algorithm) – in other words, using a search heuristic that mimics the process of natural selection in biological evolution. The idea is to generate candidate solutions which may or may not be used directly, but help inform domain experts how to derive novel designs from first principles. For example, think of it as a way to accelerate design iterations."
        },
        {
          "cell_type": "markdown",
          "metadata": {
          },
          "source": "[John Holland](http://www.cs.oswego.edu/~blue/hx/courses/cogsci1/s2001/section05/subsection5/main.html) is credited with many advances in this area. To give some historical context, check out this report – [Machine Adaptive Systems](http://deepblue.lib.umich.edu/bitstream/handle/2027.42/5578/bac4296.0001.001.pdf) from 1963 – where Holland proposed using evolutionary algorithms to build a kind of machine learning classifier called [artificial neural networks](http://en.wikipedia.org/wiki/Artificial_neural_network)."
        },
        {
          "cell_type": "markdown",
          "metadata": {
          },
          "source": "Let’s focus on an important subclass is called [genetic programming](http://en.wikipedia.org/wiki/Genetic_programming) (GP), used to synthesize computer programs that perform some user-defined task. A good reference in general for GP is [A Field Guide to Genetic Programming](http://dces.essex.ac.uk/staff/rpoli/gp-field-guide/A_Field_Guide_to_Genetic_Programming.pdf) by Riccardo Poli, William Langdon, Nicholas McPhee. Also see the text _Genetic Programming in Theory and Practice_  \nedited by Rick Riolo, Bill Worzel, et al., which is listed at the end of this chapter."
        },
        {
          "cell_type": "markdown",
          "metadata": {
          },
          "source": "On the one hand, GPs solve interesting commercial problems and don’t require a whole lot of code. On the other hand, the problem space fits well for distributed computing at scale. In Python, a great open source framework for GPs is [Pyevolve](https://github.com/perone/Pyevolve). Another distributed framework for running GPs at scale is [Exelixi](https://github.com/ceteri/exelixi/wiki). The latter scales-out based on [Mesos](http://mesos.apache.org/) clusters. Check out the sample code, which includes [route scheduling](https://github.com/ceteri/exelixi/wiki/Zen-and-the-Art-of-Bicycle-Route-Planning) (young Steve Jobs doing weekend chores on his bike), and [program generation](https://github.com/ceteri/exelixi/wiki/HSA-Lawnmower-Drones) (programming drones, which seems oddly familiar)."
        },
        {
          "cell_type": "markdown",
          "metadata": {
          },
          "source": "Imagine if we could apply GP technology to _fix_ software? That’d be great. Imagine data mining at scale using the public archives of [GitHub](https://github.com/) and other public code repositories. Imagine applying a myriad of machine learning techniques to generalize about bug fixes by examining the commit histories for thousands of popular open source software projects. Turn the deltas into “operations” and evolve ways to apply common patches to other OSS projects. Then perhaps, just maybe, we could apply GPs to evolve bug fixes. Oh snap! A researcher named [Claire Le Goues](http://www.cs.cmu.edu/~clegoues/) @CMU has been busy already doing that. Check out the paper [A Systematic Study of Automated Program Repair: Fixing 55 out of 105 Bugs for $8 Each](http://www.cs.virginia.edu/~weimer/p/weimer-icse2012-genprog-preprint.pdf) by Le Goues, et al. Amazingly brilliant."
        },
        {
          "cell_type": "heading",
          "level": 1,
          "metadata": {
          },
          "source": "Key Points"
        },
        {
          "cell_type": "markdown",
          "metadata": {
          },
          "source": "<ul>\n<li>operations research – e.g., techniques for optimization… in other words, ROI</li>\n\t<li>Caterpillar won’t be building a social network, they’ll be optimizing supply chain</li>\n\t<li>ad-tech in ecommerce didn’t need much, but IoT requires huge amounts</li>\n\t<li>stochastic gradient descent and related techniques: heavy lifting</li>\n\t<li>quantum algorithms could leverage this area into an enormous game-changer</li>\n\t<li>evolutionary algorithms for handling more complex problems</li>\n</ul>\n"
        },
        {
          "cell_type": "heading",
          "level": 1,
          "metadata": {
          },
          "source": "Suggested Books"
        },
        {
          "cell_type": "markdown",
          "metadata": {
          },
          "source": "_Linear Programming and Extensions_  \nby George Danzig (1963)  \n[http://amazon.com/dp/0691059136](http://amazon.com/dp/0691059136)"
        },
        {
          "cell_type": "markdown",
          "metadata": {
          },
          "source": "_Convex Optimization & Euclidean Distance Geometry_  \nby Jon Dattorro (2006)  \n[http://amazon.com/dp/0615193684](http://amazon.com/dp/0615193684 \"\")"
        },
        {
          "cell_type": "markdown",
          "metadata": {
          },
          "source": "_AMPL: A Modeling Language for Mathematical Programming_  \nby Robert Fourer, David M. Gay, Brian Kernighan (1997)  \n[http://amazon.com/dp/0534388094](http://amazon.com/dp/0534388094 \"\")"
        },
        {
          "cell_type": "markdown",
          "metadata": {
          },
          "source": "_A Field Guide to Genetic Programming_  \nby Riccardo Poli, William Langdon, Nicholas McPhee (2008)  \n[http://amazon.com/dp/1409200736](http://amazon.com/dp/1409200736 \"\")"
        },
        {
          "cell_type": "markdown",
          "metadata": {
          },
          "source": "_Genetic Programming in Theory and Practice_  \nedited by Rick Riolo, Bill Worzel, et al. (2003)  \n[http://amazon.com/dp/1402075812](http://amazon.com/dp/1402075812)"
        },
        {
          "cell_type": "heading",
          "level": 1,
          "metadata": {
          },
          "source": "Exercises"
        },
        {
          "cell_type": "markdown",
          "metadata": {
          },
          "source": "**TODO**"
        }
      ],
      "metadata": {
      }
    }
  ]
}