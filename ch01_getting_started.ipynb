{
  "metadata": {
    "name": "Getting Started"
  },
  "nbformat": 3,
  "nbformat_minor": 0,
  "worksheets": [
    {
      "cells": [
        {
          "cell_type": "heading",
          "level": 1,
          "metadata": {
          },
          "source": "Getting Started"
        },
        {
          "cell_type": "markdown",
          "metadata": {
          },
          "source": "Why should a reader study this book?"
        },
        {
          "cell_type": "markdown",
          "metadata": {
          },
          "source": "What are the prerequisites?  "
        },
        {
          "cell_type": "markdown",
          "metadata": {
          },
          "source": " "
        },
        {
          "cell_type": "markdown",
          "metadata": {
          },
          "source": "In general, this book targets a business audience, people who have the analytic thinking skills, but not as much of the computational thinking skills. In particular, the math explained here enables an entrepreneur/business leader to understand the basics of high-ROI apps that leverage large-scale data and machine learning. People in this audience segment tend to want to educate themselves, to some extent, prior to making decisions about who to hire, which strategies to promote, technology selections, etc."
        },
        {
          "cell_type": "markdown",
          "metadata": {
          },
          "source": "The book is positioned as an introductory text, leading into a range of titles about more advanced and specialized topics. On the one hand, Allen Downey’s “Think” books provide foundations for this book. On the other hand, this content leads into titles such as Data Science for Business by Foster Provost and Tom Fawcett."
        },
        {
          "cell_type": "markdown",
          "metadata": {
          },
          "source": "Some algebra is required, plus basic familiarity with statistics. More to the point, familiarity with business decision-making is more apt – e.g., decisions about pricing models, quarterly budgets, marketing campaigns, job interview criteria, etc."
        },
        {
          "cell_type": "markdown",
          "metadata": {
          },
          "source": "Some coding in Python is required. However, the code samples are kept brief (< 50 lines) and its possible for a reader to cut&paste from Atlas V2/Chimera. The content started as markdown, but was changed to adapt to Atlas V2 and take advantage of new features there."
        },
        {
          "cell_type": "markdown",
          "metadata": {
          },
          "source": " "
        },
        {
          "cell_type": "markdown",
          "metadata": {
          },
          "source": " "
        },
        {
          "cell_type": "markdown",
          "metadata": {
          },
          "source": " "
        },
        {
          "cell_type": "markdown",
          "metadata": {
          },
          "source": "If a reader needs experience with Python code first, then Think Python is suggested as a great resource to get started."
        },
        {
          "cell_type": "markdown",
          "metadata": {
          },
          "source": "Also we introduce a hypothetical firm, Foobartendr.io, on which the example business use cases are based."
        },
        {
          "cell_type": "markdown",
          "metadata": {
          },
          "source": "Some historical background: early ML, recognizing the need to leverage this math – even though much of it had been available for many years."
        }
      ],
      "metadata": {
      }
    }
  ]
}